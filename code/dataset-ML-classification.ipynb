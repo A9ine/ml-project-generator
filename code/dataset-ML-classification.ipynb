{
 "cells": [
  {
   "cell_type": "markdown",
   "id": "9b812f1b-fec2-46d1-90a9-02be80c8c0d1",
   "metadata": {},
   "source": [
    "# Dataset ML Classification Model"
   ]
  },
  {
   "cell_type": "markdown",
   "id": "18c6cfe3-9fd7-4c7c-af92-d24a04df3440",
   "metadata": {},
   "source": [
    "## Imports"
   ]
  },
  {
   "cell_type": "code",
   "execution_count": 1,
   "id": "26a626c2-fd26-4a79-99e6-5a8b811aef50",
   "metadata": {},
   "outputs": [],
   "source": [
    "import openml\n",
    "import pandas as pd"
   ]
  }
 ],
 "metadata": {
  "kernelspec": {
   "display_name": "Python 3 (ipykernel)",
   "language": "python",
   "name": "python3"
  },
  "language_info": {
   "codemirror_mode": {
    "name": "ipython",
    "version": 3
   },
   "file_extension": ".py",
   "mimetype": "text/x-python",
   "name": "python",
   "nbconvert_exporter": "python",
   "pygments_lexer": "ipython3",
   "version": "3.10.12"
  }
 },
 "nbformat": 4,
 "nbformat_minor": 5
}
